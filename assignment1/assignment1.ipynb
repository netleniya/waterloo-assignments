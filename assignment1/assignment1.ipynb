{
 "cells": [
  {
   "cell_type": "markdown",
   "metadata": {},
   "source": [
    "Before you turn this assignment in, make sure everything runs as expected. \n",
    "\n",
    "You can either **restart the kernel** (in the menu bar, select Kernel $\\rightarrow$ Restart and Clear Output) and then **run all cells** (in the menu bar, select Cell $\\rightarrow$ Run All). \n",
    "Or, you can simply **clear the output for all cells** (in the menu bar, select Cell $\\rightarrow$ All Output $\\rightarrow$ Clear) and then **run all cells** (in the menu bar, select Cell $\\rightarrow$ Run All).\n",
    "\n",
    "---"
   ]
  },
  {
   "cell_type": "code",
   "execution_count": 1,
   "metadata": {},
   "outputs": [],
   "source": [
    "NAME = \"Peter Fiee\"\n",
    "COLLABORATORS = \"\""
   ]
  },
  {
   "cell_type": "markdown",
   "metadata": {},
   "source": [
    "# Assignment 1 - Intro to Python\n",
    "\n",
    "(15 points)"
   ]
  },
  {
   "cell_type": "markdown",
   "metadata": {},
   "source": [
    "## Learning Outcomes\n",
    "\n",
    "In this assignment you will practice:\n",
    "\n",
    "- Basic Python syntax\n",
    "- Writing simple Python functions\n",
    "- Working with strings and dictionaries"
   ]
  },
  {
   "cell_type": "markdown",
   "metadata": {},
   "source": [
    "## Question #1: Count symbols\n",
    "\n",
    "(3 points)"
   ]
  },
  {
   "cell_type": "markdown",
   "metadata": {},
   "source": [
    "In this question, you are given a string `s` which represents a DNA string. The string `s` consists of symbols `'A', 'C', 'G',` and `'T'`. An example of a length 21 DNA string is `\"ATGCTTCAGAAAGGTCTTACG.\"` \n",
    "\n",
    "Your task is to write a code which will count the number of times each of the symbols `'A', 'C', 'G'`, and `'T'` occur in `s`. Your code should generate a **list of 4 integers** and **print it out**."
   ]
  },
  {
   "cell_type": "code",
   "execution_count": 2,
   "metadata": {},
   "outputs": [],
   "source": [
    "# Here is the DNA string:\n",
    "\n",
    "s = 'AGCTTTTCATTCTGACTGCAACGGGCAATATGTCTCTGTGTGGATTAAAAAAAGAGTGTCTGATAGCAGC'"
   ]
  },
  {
   "cell_type": "code",
   "execution_count": 3,
   "metadata": {},
   "outputs": [],
   "source": [
    "def count_letters(dna_string):\n",
    "    '''count the number of occurences of each letter in given argument'''\n",
    "    letters = set(dna_string)\n",
    "    return {i: s.count(i) for i in letters}"
   ]
  },
  {
   "cell_type": "code",
   "execution_count": 4,
   "metadata": {},
   "outputs": [
    {
     "data": {
      "text/plain": [
       "{'T': 21, 'A': 20, 'G': 17, 'C': 12}"
      ]
     },
     "execution_count": 4,
     "metadata": {},
     "output_type": "execute_result"
    }
   ],
   "source": [
    "letters_dict = count_letters(s)\n",
    "letters_dict"
   ]
  },
  {
   "cell_type": "code",
   "execution_count": 5,
   "metadata": {},
   "outputs": [
    {
     "data": {
      "text/plain": [
       "[21, 20, 17, 12]"
      ]
     },
     "execution_count": 5,
     "metadata": {},
     "output_type": "execute_result"
    }
   ],
   "source": [
    "[val for key, val in letters_dict.items()]"
   ]
  },
  {
   "cell_type": "markdown",
   "metadata": {},
   "source": [
    "## Question #2: Find a substring\n",
    "\n",
    "(4 points)"
   ]
  },
  {
   "cell_type": "markdown",
   "metadata": {},
   "source": [
    "You are given a dictionary of the US states and their capitals. The keys in the dictionary are states and the values are capital names.\n",
    "\n",
    "Write a code to return a **list of all capitals** that contain the name of a state in their name as a substring.\n",
    "\n",
    "**HINT:** For example, `Indianapolis` as a capital name and `Indiana` as a state name is one of the key/value pairs that your code would find. Your code should add `Indianapolis` to the list. After you found all capitals and added them to the list, print out the list."
   ]
  },
  {
   "cell_type": "code",
   "execution_count": 6,
   "metadata": {},
   "outputs": [],
   "source": [
    "# Run this cell to create a dictionary of states' capitals\n",
    "capitals={\n",
    "    'Alabama': 'Montgomery',\n",
    "    'Alaska': 'Juneau',\n",
    "    'Arizona':'Phoenix',\n",
    "    'Arkansas':'Little Rock',\n",
    "    'California': 'Sacramento',\n",
    "    'Colorado':'Denver',\n",
    "    'Connecticut':'Hartford',\n",
    "    'Delaware':'Dover',\n",
    "    'Florida': 'Tallahassee',\n",
    "    'Georgia': 'Atlanta',\n",
    "    'Hawaii': 'Honolulu',\n",
    "    'Idaho': 'Boise',\n",
    "    'Illinios': 'Springfield',\n",
    "    'Indiana': 'Indianapolis',\n",
    "    'Iowa': 'Des Monies',\n",
    "    'Kansas': 'Topeka',\n",
    "    'Kentucky': 'Frankfort',\n",
    "    'Louisiana': 'Baton Rouge',\n",
    "    'Maine': 'Augusta',\n",
    "    'Maryland': 'Annapolis',\n",
    "    'Massachusetts': 'Boston',\n",
    "    'Michigan': 'Lansing',\n",
    "    'Minnesota': 'St. Paul',\n",
    "    'Mississippi': 'Jackson',\n",
    "    'Missouri': 'Jefferson City',\n",
    "    'Montana': 'Helena',\n",
    "    'Nebraska': 'Lincoln',\n",
    "    'Neveda': 'Carson City',\n",
    "    'New Hampshire': 'Concord',\n",
    "    'New Jersey': 'Trenton',\n",
    "    'New Mexico': 'Santa Fe',\n",
    "    'New York': 'Albany',\n",
    "    'North Carolina': 'Raleigh',\n",
    "    'North Dakota': 'Bismarck',\n",
    "    'Ohio': 'Columbus',\n",
    "    'Oklahoma': 'Oklahoma City',\n",
    "    'Oregon': 'Salem',\n",
    "    'Pennsylvania': 'Harrisburg',\n",
    "    'Rhoda Island': 'Providence',\n",
    "    'South Carolina': 'Columbia',\n",
    "    'South Dakota': 'Pierre',\n",
    "    'Tennessee': 'Nashville',\n",
    "    'Texas': 'Austin',\n",
    "    'Utah': 'Salt Lake City',\n",
    "    'Vermont': 'Montpelier',\n",
    "    'Virginia': 'Richmond',\n",
    "    'Washington': 'Olympia',\n",
    "    'West Virginia': 'Charleston',\n",
    "    'Wisconsin': 'Madison',\n",
    "    'Wyoming': 'Cheyenne'  \n",
    "}\n",
    "# capitals"
   ]
  },
  {
   "cell_type": "code",
   "execution_count": 7,
   "metadata": {},
   "outputs": [
    {
     "data": {
      "text/plain": [
       "['Indianapolis', 'Oklahoma City']"
      ]
     },
     "execution_count": 7,
     "metadata": {},
     "output_type": "execute_result"
    }
   ],
   "source": [
    "capitals_list = [val for key,val in capitals.items() if key in val]\n",
    "capitals_list"
   ]
  },
  {
   "cell_type": "markdown",
   "metadata": {},
   "source": [
    "## Question #3: Is a data point within a rectangle?\n",
    "\n",
    "(4 points)"
   ]
  },
  {
   "cell_type": "markdown",
   "metadata": {},
   "source": [
    "Write a function `isIn()` which returns **boolean `True`** if a point is within a rectangle specified by two sets of coordinates and **boolean `False`** if the point is outside the rectangle. The function should accept three parameters:\n",
    "- the first parameter is a set of coordinates which defines one of the corners of the rectangle, \n",
    "- the second parameter is also a set of coordinates that defines the second corner,\n",
    "- the third set of coordinates defines a single point which is being tested.\n",
    "\n",
    "For example, \n",
    "- `isIn((1,2), (3,4), (1.5, 3.2))` should return `True`, \n",
    "- `isIn((4,3.5), (2,1), (3, 2))` should return `True`, \n",
    "- `isIn((-1,0), (5,5), (6,0))` should return `False`,\n",
    "- `isIn((4,1), (2,4), (2.5,4.5))` should return `False`.\n",
    "\n",
    "Test your function with at least 2 different sets of data points in addition to the examples above.\n",
    "\n",
    "**NOTES:** \n",
    "1. If the point being tested is on the side of the rectangle, consider it to be within the rectangle. For example, if the rectangle is defined as `(1,2), (3,4)` and the point is `(2,2)`, the function should return `True`.\n",
    "2. In this assignment, we assume that the edges of the rectangle are parallel to coordinate axes.\n",
    "3. We also assume that the first parameter does not always represent the left corner of the rectangle and the second parameter is not always the right corner. The function should work correctly either way. Please note the second test condition above where the first parameter, `(4,3.5)`, represents the top-right corner and the second parameter, `(2,1)`, represents left-bottom corner. "
   ]
  },
  {
   "cell_type": "code",
   "execution_count": 8,
   "metadata": {},
   "outputs": [],
   "source": [
    "def isIn(first_corner=(0,0), second_corner=(0,0), point=(0,0)):\n",
    "    '''determines whether a given point falls within given coordinates'''\n",
    "    x1, y1 = first_corner\n",
    "    x2, y2 = second_corner    \n",
    "    p1, p2 = point\n",
    "\n",
    "    if x1 < x2:\n",
    "        return (x1 <= p1 <= x2) and (y1 <= p2 <= y2 or (y2 <= p2 <= y1))\n",
    "    else:\n",
    "        return (x2 <= p1 <= x1) and (y2 <= p2 <= y1 or (y2 >= p2 >= y1)) "
   ]
  },
  {
   "cell_type": "code",
   "execution_count": 9,
   "metadata": {},
   "outputs": [
    {
     "name": "stdout",
     "output_type": "stream",
     "text": [
      "Test Points:\n",
      ":- (6,0) in [(-1,0), (5,5)]? False\n",
      ":- (1.5, 3.2) in [(1,2), (3,4)]? True\n",
      ":- (2, 2) in [(1, 2), (3, 4)]? True\n",
      ":- (2.5,4.5) in [(4,1), (2,4)]? False\n"
     ]
    }
   ],
   "source": [
    "print(\"Test Points:\")\n",
    "\n",
    "print(f\":- (6,0) in [(-1,0), (5,5)]? {isIn((-1,0), (5,5), (6,0))}\")\n",
    "print(f\":- (1.5, 3.2) in [(1,2), (3,4)]? {isIn((1,2), (3,4), (1.5, 3.2))}\")\n",
    "print(f\":- (2, 2) in [(1, 2), (3, 4)]? {isIn((1, 2), (3, 4), (2, 2))}\")\n",
    "print(f\":- (2.5,4.5) in [(4,1), (2,4)]? {isIn((4,1), (2,4), (2.5,4.5))}\")"
   ]
  },
  {
   "cell_type": "code",
   "execution_count": 10,
   "metadata": {},
   "outputs": [
    {
     "name": "stdout",
     "output_type": "stream",
     "text": [
      "Cases where first parameter is not left corner:\n",
      "True\n"
     ]
    }
   ],
   "source": [
    "print(\"Cases where first parameter is not left corner:\")\n",
    "\n",
    "print(edge_case := isIn((4,3.5), (2,1), (3, 2)) )\n"
   ]
  },
  {
   "cell_type": "markdown",
   "metadata": {},
   "source": [
    "## Question #4: Are all points within a rectangle?\n",
    "\n",
    "(4 points)"
   ]
  },
  {
   "cell_type": "markdown",
   "metadata": {},
   "source": [
    "Modify your function from the previous question so it takes a list of points rather than a single point and returns **boolean `True`** only if all points in the list are in the rectangle.\n",
    "\n",
    "For example,\n",
    "\n",
    "- `allIn((0,0), (5,5), [(1,1), (0,0), (5,5)])` should return `True`\n",
    "- but `allIn((0,0), (5,5), [(1,1), (0,0), (5,6)])` should return `False`\n",
    "- empty list of points `allIn((0,0), (5,5), [])` should return `False`\n",
    "\n",
    "Use the same assumptions as above about the placement of the points and how rectangle is defined. Make sure that your function returns `False` for empty list of points (no values).\n",
    "\n",
    "Test your function with at least 3 different sets of data points."
   ]
  },
  {
   "cell_type": "code",
   "execution_count": 11,
   "metadata": {},
   "outputs": [],
   "source": [
    "def allIn(first_corner=(0, 0), second_corner=(0, 0), *point_list):\n",
    "    '''determines whether all points in a list fall within given coordinates'''\n",
    "    if not point_list:\n",
    "        return False\n",
    "\n",
    "    x1, y1 = first_corner\n",
    "    x2, y2 = second_corner\n",
    "\n",
    "    truth_table = []\n",
    "    for point in point_list:\n",
    "        p1, p2 = point\n",
    "        if (x1 <= p1 <= x2) and (y1 <= p2 <= y2 or (y2 <= p2 <= y1)) and (x1 < x2):\n",
    "            truth_table.append(True)\n",
    "        elif (x2 <= p1 <= x1) and (y2 <= p2 <= y1 or (y2 >= p2 >= y1)) and (x1 > x2):\n",
    "            truth_table.append(True)\n",
    "        else:\n",
    "            truth_table.append(False)\n",
    "\n",
    "    return all(truth_table)"
   ]
  },
  {
   "cell_type": "code",
   "execution_count": 12,
   "metadata": {},
   "outputs": [
    {
     "name": "stdout",
     "output_type": "stream",
     "text": [
      "Test Cases:\n",
      "True\n",
      "False\n",
      "True\n",
      "False\n",
      "False\n",
      "True\n"
     ]
    }
   ],
   "source": [
    "print(\"Test Cases:\")\n",
    "\n",
    "print(allIn((0, 0), (5, 5), *[(1, 1), (0, 0), (5, 5)]))\n",
    "print(allIn((0, 0), (5, 5), *[(1, 1), (0, 0), (5, 6)]))\n",
    "print(allIn((0, 0), (5, 5), *[(1, 1), (2, 2)]))\n",
    "\n",
    "print(allIn((0, 0), (5, 5), *[(6, 6), (0, 0), (5, 5)]))\n",
    "print(allIn((0, 0), (5, 5), *[]))\n",
    "print(allIn((0, 0), (5, 5), *[(3, 5)]))\n"
   ]
  },
  {
   "cell_type": "code",
   "execution_count": 13,
   "metadata": {},
   "outputs": [
    {
     "name": "stdout",
     "output_type": "stream",
     "text": [
      "Fringes Cases where first parameter is not left corner:\n",
      "False\n",
      "True\n",
      "True\n",
      "False\n",
      "False\n"
     ]
    }
   ],
   "source": [
    "print(\"Fringes Cases where first parameter is not left corner:\")\n",
    "\n",
    "print(allIn((0, 0), (-5, -5), *[(1, 1), (0, 0), (2, 2)]))\n",
    "print(allIn((0, 0), (-5, -5), *[(-1, -1), (0, 0), (-2, -2)]))\n",
    "print(allIn((0, 0), (-5, -5), *[(-3, 0), (0, 0), (-5, -3)]))\n",
    "print(allIn((0, 0), (-5, -5), *[(1, 1), (0, 0), (1, -1)]))\n",
    "print(allIn((0, 0), (-5, -5), *[(2, -2)]))"
   ]
  },
  {
   "cell_type": "markdown",
   "metadata": {},
   "source": [
    "---\n",
    "---\n",
    "## Appendix\n",
    "\n",
    "#### Visualizing Question: data points within rectangle\n",
    "\n",
    "Four rectangles representing different scenarios are defined:\n",
    "1. _Red_ `(x1,y1) < (x2,y2)` \n",
    "2. _Green_ `(x1,y1) > (x2,y2)`\n",
    "3. _Blue_ `(x1 > x2) and (y1 < y2)`\n",
    "4. _Gold_ `(x1 < x2) and (y1 > y2)`\n",
    "\n",
    "The following visualization is just an aid in debugging the logic of the function `isIn()`"
   ]
  },
  {
   "cell_type": "code",
   "execution_count": 14,
   "metadata": {},
   "outputs": [
    {
     "data": {
      "application/vnd.plotly.v1+json": {
       "config": {
        "plotlyServerURL": "https://plot.ly"
       },
       "data": [
        {
         "marker": {
          "color": "Red",
          "size": 8
         },
         "mode": "markers+text",
         "name": "(x1,y1) < (x2,y2)",
         "showlegend": false,
         "text": [
          "(0,0)",
          "(1,1)",
          "(5,3)",
          "(5,6)"
         ],
         "textposition": "top center",
         "type": "scatter",
         "x": [
          0,
          1,
          5,
          5
         ],
         "y": [
          0,
          1,
          3,
          6
         ]
        },
        {
         "marker": {
          "color": "Green",
          "size": 8
         },
         "mode": "markers+text",
         "name": "(x1,y1) > (x2,y2)",
         "showlegend": false,
         "text": [
          "(-1,-1)",
          "(2,-2)",
          "(-3,-6)",
          "(-5,-3)"
         ],
         "textposition": "bottom left",
         "type": "scatter",
         "x": [
          -1,
          2,
          -3,
          -5
         ],
         "y": [
          -1,
          -2,
          -6,
          -3
         ]
        },
        {
         "marker": {
          "color": "#0D7AE6",
          "size": 8
         },
         "mode": "markers+text",
         "name": "(x1 > x2);(y1 < y2)",
         "showlegend": false,
         "text": [
          "(-2,2)",
          "(-5,4)",
          "(-4,6)",
          "(-1,4)"
         ],
         "textposition": "top center",
         "type": "scatter",
         "x": [
          -2,
          -5,
          -4,
          -1
         ],
         "y": [
          2,
          4,
          6,
          4
         ]
        },
        {
         "marker": {
          "color": "#FFCC00",
          "size": 8
         },
         "mode": "markers+text",
         "name": "(x1 < x2);(y1 > y2)",
         "showlegend": false,
         "text": [
          "(4,-1)",
          "(5,-5)",
          "(8,-5)",
          "(9,-9)"
         ],
         "textposition": "bottom right",
         "type": "scatter",
         "x": [
          4,
          5,
          8,
          9
         ],
         "y": [
          -1,
          -5,
          -5,
          -9
         ]
        }
       ],
       "layout": {
        "autosize": true,
        "height": 600,
        "legend": {
         "title": {
          "text": "rectangle:"
         }
        },
        "shapes": [
         {
          "fillcolor": "rgba(255, 0, 0, 0.1)",
          "line": {
           "color": "Red",
           "width": 2
          },
          "type": "rect",
          "x0": 0,
          "x1": 5,
          "y0": 0,
          "y1": 5
         },
         {
          "fillcolor": "rgba(26, 150, 65, 0.1)",
          "line": {
           "color": "Green",
           "width": 2
          },
          "type": "rect",
          "x0": 0,
          "x1": -5,
          "y0": 0,
          "y1": -5
         },
         {
          "fillcolor": "rgba(13, 122, 230, 0.1)",
          "line": {
           "color": "#0D7AE6",
           "width": 2
          },
          "type": "rect",
          "x0": -2,
          "x1": -6,
          "y0": 2,
          "y1": 6
         },
         {
          "fillcolor": "rgba(255, 204, 0, 0.1)",
          "line": {
           "color": "#FFCC00",
           "width": 2
          },
          "type": "rect",
          "x0": 4,
          "x1": 8,
          "y0": -1,
          "y1": -8
         }
        ],
        "template": {
         "data": {
          "bar": [
           {
            "error_x": {
             "color": "#2a3f5f"
            },
            "error_y": {
             "color": "#2a3f5f"
            },
            "marker": {
             "line": {
              "color": "#E5ECF6",
              "width": 0.5
             },
             "pattern": {
              "fillmode": "overlay",
              "size": 10,
              "solidity": 0.2
             }
            },
            "type": "bar"
           }
          ],
          "barpolar": [
           {
            "marker": {
             "line": {
              "color": "#E5ECF6",
              "width": 0.5
             },
             "pattern": {
              "fillmode": "overlay",
              "size": 10,
              "solidity": 0.2
             }
            },
            "type": "barpolar"
           }
          ],
          "carpet": [
           {
            "aaxis": {
             "endlinecolor": "#2a3f5f",
             "gridcolor": "white",
             "linecolor": "white",
             "minorgridcolor": "white",
             "startlinecolor": "#2a3f5f"
            },
            "baxis": {
             "endlinecolor": "#2a3f5f",
             "gridcolor": "white",
             "linecolor": "white",
             "minorgridcolor": "white",
             "startlinecolor": "#2a3f5f"
            },
            "type": "carpet"
           }
          ],
          "choropleth": [
           {
            "colorbar": {
             "outlinewidth": 0,
             "ticks": ""
            },
            "type": "choropleth"
           }
          ],
          "contour": [
           {
            "colorbar": {
             "outlinewidth": 0,
             "ticks": ""
            },
            "colorscale": [
             [
              0,
              "#0d0887"
             ],
             [
              0.1111111111111111,
              "#46039f"
             ],
             [
              0.2222222222222222,
              "#7201a8"
             ],
             [
              0.3333333333333333,
              "#9c179e"
             ],
             [
              0.4444444444444444,
              "#bd3786"
             ],
             [
              0.5555555555555556,
              "#d8576b"
             ],
             [
              0.6666666666666666,
              "#ed7953"
             ],
             [
              0.7777777777777778,
              "#fb9f3a"
             ],
             [
              0.8888888888888888,
              "#fdca26"
             ],
             [
              1,
              "#f0f921"
             ]
            ],
            "type": "contour"
           }
          ],
          "contourcarpet": [
           {
            "colorbar": {
             "outlinewidth": 0,
             "ticks": ""
            },
            "type": "contourcarpet"
           }
          ],
          "heatmap": [
           {
            "colorbar": {
             "outlinewidth": 0,
             "ticks": ""
            },
            "colorscale": [
             [
              0,
              "#0d0887"
             ],
             [
              0.1111111111111111,
              "#46039f"
             ],
             [
              0.2222222222222222,
              "#7201a8"
             ],
             [
              0.3333333333333333,
              "#9c179e"
             ],
             [
              0.4444444444444444,
              "#bd3786"
             ],
             [
              0.5555555555555556,
              "#d8576b"
             ],
             [
              0.6666666666666666,
              "#ed7953"
             ],
             [
              0.7777777777777778,
              "#fb9f3a"
             ],
             [
              0.8888888888888888,
              "#fdca26"
             ],
             [
              1,
              "#f0f921"
             ]
            ],
            "type": "heatmap"
           }
          ],
          "heatmapgl": [
           {
            "colorbar": {
             "outlinewidth": 0,
             "ticks": ""
            },
            "colorscale": [
             [
              0,
              "#0d0887"
             ],
             [
              0.1111111111111111,
              "#46039f"
             ],
             [
              0.2222222222222222,
              "#7201a8"
             ],
             [
              0.3333333333333333,
              "#9c179e"
             ],
             [
              0.4444444444444444,
              "#bd3786"
             ],
             [
              0.5555555555555556,
              "#d8576b"
             ],
             [
              0.6666666666666666,
              "#ed7953"
             ],
             [
              0.7777777777777778,
              "#fb9f3a"
             ],
             [
              0.8888888888888888,
              "#fdca26"
             ],
             [
              1,
              "#f0f921"
             ]
            ],
            "type": "heatmapgl"
           }
          ],
          "histogram": [
           {
            "marker": {
             "pattern": {
              "fillmode": "overlay",
              "size": 10,
              "solidity": 0.2
             }
            },
            "type": "histogram"
           }
          ],
          "histogram2d": [
           {
            "colorbar": {
             "outlinewidth": 0,
             "ticks": ""
            },
            "colorscale": [
             [
              0,
              "#0d0887"
             ],
             [
              0.1111111111111111,
              "#46039f"
             ],
             [
              0.2222222222222222,
              "#7201a8"
             ],
             [
              0.3333333333333333,
              "#9c179e"
             ],
             [
              0.4444444444444444,
              "#bd3786"
             ],
             [
              0.5555555555555556,
              "#d8576b"
             ],
             [
              0.6666666666666666,
              "#ed7953"
             ],
             [
              0.7777777777777778,
              "#fb9f3a"
             ],
             [
              0.8888888888888888,
              "#fdca26"
             ],
             [
              1,
              "#f0f921"
             ]
            ],
            "type": "histogram2d"
           }
          ],
          "histogram2dcontour": [
           {
            "colorbar": {
             "outlinewidth": 0,
             "ticks": ""
            },
            "colorscale": [
             [
              0,
              "#0d0887"
             ],
             [
              0.1111111111111111,
              "#46039f"
             ],
             [
              0.2222222222222222,
              "#7201a8"
             ],
             [
              0.3333333333333333,
              "#9c179e"
             ],
             [
              0.4444444444444444,
              "#bd3786"
             ],
             [
              0.5555555555555556,
              "#d8576b"
             ],
             [
              0.6666666666666666,
              "#ed7953"
             ],
             [
              0.7777777777777778,
              "#fb9f3a"
             ],
             [
              0.8888888888888888,
              "#fdca26"
             ],
             [
              1,
              "#f0f921"
             ]
            ],
            "type": "histogram2dcontour"
           }
          ],
          "mesh3d": [
           {
            "colorbar": {
             "outlinewidth": 0,
             "ticks": ""
            },
            "type": "mesh3d"
           }
          ],
          "parcoords": [
           {
            "line": {
             "colorbar": {
              "outlinewidth": 0,
              "ticks": ""
             }
            },
            "type": "parcoords"
           }
          ],
          "pie": [
           {
            "automargin": true,
            "type": "pie"
           }
          ],
          "scatter": [
           {
            "marker": {
             "colorbar": {
              "outlinewidth": 0,
              "ticks": ""
             }
            },
            "type": "scatter"
           }
          ],
          "scatter3d": [
           {
            "line": {
             "colorbar": {
              "outlinewidth": 0,
              "ticks": ""
             }
            },
            "marker": {
             "colorbar": {
              "outlinewidth": 0,
              "ticks": ""
             }
            },
            "type": "scatter3d"
           }
          ],
          "scattercarpet": [
           {
            "marker": {
             "colorbar": {
              "outlinewidth": 0,
              "ticks": ""
             }
            },
            "type": "scattercarpet"
           }
          ],
          "scattergeo": [
           {
            "marker": {
             "colorbar": {
              "outlinewidth": 0,
              "ticks": ""
             }
            },
            "type": "scattergeo"
           }
          ],
          "scattergl": [
           {
            "marker": {
             "colorbar": {
              "outlinewidth": 0,
              "ticks": ""
             }
            },
            "type": "scattergl"
           }
          ],
          "scattermapbox": [
           {
            "marker": {
             "colorbar": {
              "outlinewidth": 0,
              "ticks": ""
             }
            },
            "type": "scattermapbox"
           }
          ],
          "scatterpolar": [
           {
            "marker": {
             "colorbar": {
              "outlinewidth": 0,
              "ticks": ""
             }
            },
            "type": "scatterpolar"
           }
          ],
          "scatterpolargl": [
           {
            "marker": {
             "colorbar": {
              "outlinewidth": 0,
              "ticks": ""
             }
            },
            "type": "scatterpolargl"
           }
          ],
          "scatterternary": [
           {
            "marker": {
             "colorbar": {
              "outlinewidth": 0,
              "ticks": ""
             }
            },
            "type": "scatterternary"
           }
          ],
          "surface": [
           {
            "colorbar": {
             "outlinewidth": 0,
             "ticks": ""
            },
            "colorscale": [
             [
              0,
              "#0d0887"
             ],
             [
              0.1111111111111111,
              "#46039f"
             ],
             [
              0.2222222222222222,
              "#7201a8"
             ],
             [
              0.3333333333333333,
              "#9c179e"
             ],
             [
              0.4444444444444444,
              "#bd3786"
             ],
             [
              0.5555555555555556,
              "#d8576b"
             ],
             [
              0.6666666666666666,
              "#ed7953"
             ],
             [
              0.7777777777777778,
              "#fb9f3a"
             ],
             [
              0.8888888888888888,
              "#fdca26"
             ],
             [
              1,
              "#f0f921"
             ]
            ],
            "type": "surface"
           }
          ],
          "table": [
           {
            "cells": {
             "fill": {
              "color": "#EBF0F8"
             },
             "line": {
              "color": "white"
             }
            },
            "header": {
             "fill": {
              "color": "#C8D4E3"
             },
             "line": {
              "color": "white"
             }
            },
            "type": "table"
           }
          ]
         },
         "layout": {
          "annotationdefaults": {
           "arrowcolor": "#2a3f5f",
           "arrowhead": 0,
           "arrowwidth": 1
          },
          "autotypenumbers": "strict",
          "coloraxis": {
           "colorbar": {
            "outlinewidth": 0,
            "ticks": ""
           }
          },
          "colorscale": {
           "diverging": [
            [
             0,
             "#8e0152"
            ],
            [
             0.1,
             "#c51b7d"
            ],
            [
             0.2,
             "#de77ae"
            ],
            [
             0.3,
             "#f1b6da"
            ],
            [
             0.4,
             "#fde0ef"
            ],
            [
             0.5,
             "#f7f7f7"
            ],
            [
             0.6,
             "#e6f5d0"
            ],
            [
             0.7,
             "#b8e186"
            ],
            [
             0.8,
             "#7fbc41"
            ],
            [
             0.9,
             "#4d9221"
            ],
            [
             1,
             "#276419"
            ]
           ],
           "sequential": [
            [
             0,
             "#0d0887"
            ],
            [
             0.1111111111111111,
             "#46039f"
            ],
            [
             0.2222222222222222,
             "#7201a8"
            ],
            [
             0.3333333333333333,
             "#9c179e"
            ],
            [
             0.4444444444444444,
             "#bd3786"
            ],
            [
             0.5555555555555556,
             "#d8576b"
            ],
            [
             0.6666666666666666,
             "#ed7953"
            ],
            [
             0.7777777777777778,
             "#fb9f3a"
            ],
            [
             0.8888888888888888,
             "#fdca26"
            ],
            [
             1,
             "#f0f921"
            ]
           ],
           "sequentialminus": [
            [
             0,
             "#0d0887"
            ],
            [
             0.1111111111111111,
             "#46039f"
            ],
            [
             0.2222222222222222,
             "#7201a8"
            ],
            [
             0.3333333333333333,
             "#9c179e"
            ],
            [
             0.4444444444444444,
             "#bd3786"
            ],
            [
             0.5555555555555556,
             "#d8576b"
            ],
            [
             0.6666666666666666,
             "#ed7953"
            ],
            [
             0.7777777777777778,
             "#fb9f3a"
            ],
            [
             0.8888888888888888,
             "#fdca26"
            ],
            [
             1,
             "#f0f921"
            ]
           ]
          },
          "colorway": [
           "#636efa",
           "#EF553B",
           "#00cc96",
           "#ab63fa",
           "#FFA15A",
           "#19d3f3",
           "#FF6692",
           "#B6E880",
           "#FF97FF",
           "#FECB52"
          ],
          "font": {
           "color": "#2a3f5f"
          },
          "geo": {
           "bgcolor": "white",
           "lakecolor": "white",
           "landcolor": "#E5ECF6",
           "showlakes": true,
           "showland": true,
           "subunitcolor": "white"
          },
          "hoverlabel": {
           "align": "left"
          },
          "hovermode": "closest",
          "mapbox": {
           "style": "light"
          },
          "paper_bgcolor": "white",
          "plot_bgcolor": "#E5ECF6",
          "polar": {
           "angularaxis": {
            "gridcolor": "white",
            "linecolor": "white",
            "ticks": ""
           },
           "bgcolor": "#E5ECF6",
           "radialaxis": {
            "gridcolor": "white",
            "linecolor": "white",
            "ticks": ""
           }
          },
          "scene": {
           "xaxis": {
            "backgroundcolor": "#E5ECF6",
            "gridcolor": "white",
            "gridwidth": 2,
            "linecolor": "white",
            "showbackground": true,
            "ticks": "",
            "zerolinecolor": "white"
           },
           "yaxis": {
            "backgroundcolor": "#E5ECF6",
            "gridcolor": "white",
            "gridwidth": 2,
            "linecolor": "white",
            "showbackground": true,
            "ticks": "",
            "zerolinecolor": "white"
           },
           "zaxis": {
            "backgroundcolor": "#E5ECF6",
            "gridcolor": "white",
            "gridwidth": 2,
            "linecolor": "white",
            "showbackground": true,
            "ticks": "",
            "zerolinecolor": "white"
           }
          },
          "shapedefaults": {
           "line": {
            "color": "#2a3f5f"
           }
          },
          "ternary": {
           "aaxis": {
            "gridcolor": "white",
            "linecolor": "white",
            "ticks": ""
           },
           "baxis": {
            "gridcolor": "white",
            "linecolor": "white",
            "ticks": ""
           },
           "bgcolor": "#E5ECF6",
           "caxis": {
            "gridcolor": "white",
            "linecolor": "white",
            "ticks": ""
           }
          },
          "title": {
           "x": 0.05
          },
          "xaxis": {
           "automargin": true,
           "gridcolor": "white",
           "linecolor": "white",
           "ticks": "",
           "title": {
            "standoff": 15
           },
           "zerolinecolor": "white",
           "zerolinewidth": 2
          },
          "yaxis": {
           "automargin": true,
           "gridcolor": "white",
           "linecolor": "white",
           "ticks": "",
           "title": {
            "standoff": 15
           },
           "zerolinecolor": "white",
           "zerolinewidth": 2
          }
         }
        },
        "title": {
         "text": "Question 3: is a data point within a rectangle"
        },
        "width": 800,
        "xaxis": {
         "range": [
          -12,
          12
         ]
        },
        "yaxis": {
         "range": [
          -12,
          12
         ]
        }
       }
      }
     },
     "metadata": {},
     "output_type": "display_data"
    }
   ],
   "source": [
    "import plotly.graph_objects as go\n",
    "\n",
    "fig = go.Figure()\n",
    "\n",
    "fig.add_shape(type=\"rect\", x0=0, y0=0, x1=5, y1=5, line=dict(\n",
    "    color='Red', width=2), fillcolor='rgba(255, 0, 0, 0.1)')\n",
    "\n",
    "fig.add_trace(go.Scatter(\n",
    "    x=[0, 1, 5, 5], y=[0, 1, 3, 6],\n",
    "    text=[\"(0,0)\", \"(1,1)\", \"(5,3)\", \"(5,6)\"],\n",
    "    textposition=\"top center\",\n",
    "    mode='markers+text', marker=dict(color=\"Red\", size=8),\n",
    "    showlegend=False,\n",
    "    name=\"(x1,y1) < (x2,y2)\"))\n",
    "\n",
    "\n",
    "fig.add_shape(type=\"rect\", x0=0, y0=0, x1=-5, y1=-5,\n",
    "              line=dict(color='Green', width=2), fillcolor='rgba(26, 150, 65, 0.1)')\n",
    "\n",
    "fig.add_trace(go.Scatter(\n",
    "    x=[-1, 2, -3, -5], y=[-1, -2, -6, -3],\n",
    "    text=[\"(-1,-1)\", \"(2,-2)\",\"(-3,-6)\", \"(-5,-3)\"],\n",
    "    textposition=\"bottom left\",\n",
    "    mode='markers+text', marker=dict(color=\"Green\", size=8),\n",
    "    showlegend=False,\n",
    "    name=\"(x1,y1) > (x2,y2)\"))\n",
    "\n",
    "fig.add_shape(type=\"rect\", x0=-2, y0=2, x1=-6, y1=6,\n",
    "              line=dict(color='#0D7AE6', width=2), fillcolor='rgba(13, 122, 230, 0.1)')\n",
    "\n",
    "fig.add_trace(go.Scatter(\n",
    "    x=[-2, -5, -4, -1], y=[2, 4, 6, 4],\n",
    "    text=[\"(-2,2)\", \"(-5,4)\", \"(-4,6)\", \"(-1,4)\"],\n",
    "    textposition=\"top center\",\n",
    "    mode='markers+text', marker=dict(color=\"#0D7AE6\", size=8),\n",
    "    showlegend=False,\n",
    "    name=\"(x1 > x2);(y1 < y2)\"))\n",
    "\n",
    "fig.add_shape(type=\"rect\", x0=4, y0=-1, x1=8, y1=-8,\n",
    "              line=dict(color='#FFCC00', width=2), fillcolor='rgba(255, 204, 0, 0.1)')\n",
    "\n",
    "fig.add_trace(go.Scatter(\n",
    "    x=[4, 5, 8, 9], y=[-1, -5, -5, -9],\n",
    "    text=[\"(4,-1)\", \"(5,-5)\", \"(8,-5)\", \"(9,-9)\"],\n",
    "    textposition=\"bottom right\",\n",
    "    mode='markers+text', marker=dict(color=\"#FFCC00\", size=8),\n",
    "    showlegend=False,\n",
    "    name=\"(x1 < x2);(y1 > y2)\"))\n",
    "\n",
    "fig.update_traces()\n",
    "\n",
    "fig.update_xaxes(range=[-12, 12])\n",
    "fig.update_yaxes(range=[-12, 12])\n",
    "\n",
    "fig.update_layout(\n",
    "    title=\"Question 3: is a data point within a rectangle\",\n",
    "    autosize=True,\n",
    "    width=800,\n",
    "    height=600,\n",
    "    legend_title=\"rectangle:\")\n",
    "fig.show()\n"
   ]
  },
  {
   "cell_type": "markdown",
   "metadata": {},
   "source": [
    "Because of the way we defined`allIn()` to take a variable number of arguments, when called with one argument the function should give the same result as `isIn()`, i.e. `isIn()` is simply a special case of `allIn()`"
   ]
  },
  {
   "cell_type": "code",
   "execution_count": 15,
   "metadata": {},
   "outputs": [
    {
     "name": "stdout",
     "output_type": "stream",
     "text": [
      "                       (isIn)\t(allIn)\n",
      "(0, 0) in [(0,0),(5,5)]: True - True\n",
      "(1, 1) in [(0,0),(5,5)]: True - True\n",
      "(5, 3) in [(0,0),(5,5)]: True - True\n",
      "(5, 6) in [(0,0),(5,5)]: False - False\n"
     ]
    }
   ],
   "source": [
    "red_coords = [(0,0), (1,1),(5,3),(5,6)]\n",
    "\n",
    "print(\"{:>37}\".format(\"(isIn)\\t(allIn)\"))\n",
    "for val in red_coords:\n",
    "    print(f\"{val} in [(0,0),(5,5)]: {isIn((0,0),(5,5),val)} - {allIn((0,0),(5,5),val)}\")"
   ]
  },
  {
   "cell_type": "code",
   "execution_count": 16,
   "metadata": {},
   "outputs": [
    {
     "name": "stdout",
     "output_type": "stream",
     "text": [
      "                           (isIn)\t(allIn)\n",
      "(-1, -1) in [(0,0),(-5,-5)]: True - True\n",
      "(2, -2) in [(0,0),(-5,-5)]: False - False\n",
      "(-3, -6) in [(0,0),(-5,-5)]: False - False\n",
      "(-5, -3) in [(0,0),(-5,-5)]: True - True\n"
     ]
    }
   ],
   "source": [
    "green_coords = [(-1,-1), (2,-2), (-3,-6),(-5,-3)]\n",
    "\n",
    "print(\"{:>41}\".format(\"(isIn)\\t(allIn)\"))\n",
    "for val in green_coords:\n",
    "    print(f\"{val} in [(0,0),(-5,-5)]: {isIn((0,0),(-5,-5), val)} - {allIn((0,0),(-5,-5), val)}\")"
   ]
  },
  {
   "cell_type": "code",
   "execution_count": 17,
   "metadata": {},
   "outputs": [
    {
     "name": "stdout",
     "output_type": "stream",
     "text": [
      "                         (isIn)\t(allIn)\n",
      "(-2, 2) in [(-2,2),(-6,6)]: True - True\n",
      "(-5, 4) in [(-2,2),(-6,6)]: True - True\n",
      "(-4, 6) in [(-2,2),(-6,6)]: True - True\n",
      "(-1, 4) in [(-2,2),(-6,6)]: False - False\n"
     ]
    }
   ],
   "source": [
    "blue_cords = [(-2,2), (-5,4), (-4,6), (-1,4)]\n",
    "\n",
    "print(\"{:>39}\".format(\"(isIn)\\t(allIn)\"))\n",
    "for val in blue_cords:\n",
    "    print(f\"{val} in [(-2,2),(-6,6)]: {isIn((-2,2),(-6,6), val)} - {allIn((-2,2),(-6,6), val)}\")"
   ]
  },
  {
   "cell_type": "code",
   "execution_count": 18,
   "metadata": {},
   "outputs": [
    {
     "name": "stdout",
     "output_type": "stream",
     "text": [
      "                               (isIn)\t(allIn)\n",
      "(4, -1) within [(4,-1),(8,-8)]: True - True\n",
      "(5, -5) within [(4,-1),(8,-8)]: True - True\n",
      "(8, -5) within [(4,-1),(8,-8)]: True - True\n",
      "(9, -9) within [(4,-1),(8,-8)]: False - False\n"
     ]
    }
   ],
   "source": [
    "yellow_cords = [(4,-1), (5,-5), (8,-5), (9,-9)]\n",
    "\n",
    "print(\"{:>45}\".format(\"(isIn)\\t(allIn)\"))\n",
    "for val in yellow_cords:\n",
    "    print(f\"{val} within [(4,-1),(8,-8)]: {isIn((4,-1),(8,-8), val)} - {allIn((4,-1),(8,-8), val)}\")"
   ]
  }
 ],
 "metadata": {
  "kernelspec": {
   "display_name": "Python 3 (ipykernel)",
   "language": "python",
   "name": "python3"
  },
  "language_info": {
   "codemirror_mode": {
    "name": "ipython",
    "version": 3
   },
   "file_extension": ".py",
   "mimetype": "text/x-python",
   "name": "python",
   "nbconvert_exporter": "python",
   "pygments_lexer": "ipython3",
   "version": "3.9.7"
  },
  "toc": {
   "base_numbering": 1,
   "nav_menu": {},
   "number_sections": false,
   "sideBar": true,
   "skip_h1_title": false,
   "title_cell": "Table of Contents",
   "title_sidebar": "Contents",
   "toc_cell": false,
   "toc_position": {},
   "toc_section_display": true,
   "toc_window_display": false
  }
 },
 "nbformat": 4,
 "nbformat_minor": 4
}
